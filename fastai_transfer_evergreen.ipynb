{
  "nbformat": 4,
  "nbformat_minor": 0,
  "metadata": {
    "colab": {
      "name": "fastai-transfer-evergreen.ipynb",
      "provenance": [],
      "collapsed_sections": [],
      "include_colab_link": true
    },
    "kernelspec": {
      "name": "python3",
      "display_name": "Python 3"
    },
    "accelerator": "GPU"
  },
  "cells": [
    {
      "cell_type": "markdown",
      "metadata": {
        "id": "view-in-github",
        "colab_type": "text"
      },
      "source": [
        "<a href=\"https://colab.research.google.com/github/EHDEV/evergreen-content-classifier/blob/master/fastai_transfer_evergreen.ipynb\" target=\"_parent\"><img src=\"https://colab.research.google.com/assets/colab-badge.svg\" alt=\"Open In Colab\"/></a>"
      ]
    },
    {
      "cell_type": "code",
      "metadata": {
        "id": "4sNTiKGVnlkg",
        "colab_type": "code",
        "colab": {}
      },
      "source": [
        "# !pip install torch_nightly -f https://download.pytorch.org/whl/nightly/cu92/torch_nightly.html\n",
        "# !pip install fastai"
      ],
      "execution_count": 0,
      "outputs": []
    },
    {
      "cell_type": "code",
      "metadata": {
        "id": "KUHlhJzJnxYS",
        "colab_type": "code",
        "colab": {}
      },
      "source": [
        "from fastai import *\n",
        "from fastai.text import *\n",
        "\n",
        "from google.colab import drive\n",
        "import pandas as pd"
      ],
      "execution_count": 0,
      "outputs": []
    },
    {
      "cell_type": "code",
      "metadata": {
        "id": "4mHZH16I-y3r",
        "colab_type": "code",
        "colab": {}
      },
      "source": [
        "drive.mount('/content/drive/')\n",
        "!ls \"/content/drive/My Drive/\"\n",
        "pth =  \"/content/drive/My Drive/\""
      ],
      "execution_count": 0,
      "outputs": []
    },
    {
      "cell_type": "code",
      "metadata": {
        "id": "ivYfENwKI911",
        "colab_type": "code",
        "colab": {}
      },
      "source": [
        "# drive.mount('/content/drive')\n",
        "data_file = 'evergreen_sample_bigger.csv'\n",
        "\n",
        "df = pd.read_csv(f'{pth}/{data_file}')"
      ],
      "execution_count": 0,
      "outputs": []
    },
    {
      "cell_type": "code",
      "metadata": {
        "id": "pg0O5EmyK3L7",
        "colab_type": "code",
        "colab": {}
      },
      "source": [
        "train_df = df[df['is_valid'] == False]\n",
        "valid_df = df[df['is_valid'] == True]"
      ],
      "execution_count": 0,
      "outputs": []
    },
    {
      "cell_type": "code",
      "metadata": {
        "id": "VC0__8eFCb0g",
        "colab_type": "code",
        "colab": {}
      },
      "source": [
        "train_df = train_df.drop(train_df[train_df.text.isna()].index)\n",
        "valid_df = valid_df.drop(valid_df[valid_df.text.isna()].index)"
      ],
      "execution_count": 0,
      "outputs": []
    },
    {
      "cell_type": "code",
      "metadata": {
        "id": "W8f2o0-k52_5",
        "colab_type": "code",
        "colab": {}
      },
      "source": [
        "bs = 16"
      ],
      "execution_count": 0,
      "outputs": []
    },
    {
      "cell_type": "code",
      "metadata": {
        "id": "fiQnFuATJepU",
        "colab_type": "code",
        "colab": {}
      },
      "source": [
        "data_lm = TextLMDataBunch.from_df(pth,train_df=train_df, valid_df=valid_df, bs=bs)\n",
        "data_clas = TextClasDataBunch.from_df(pth,train_df=train_df, valid_df=valid_df, bs=bs)\n",
        "data_lm.save(f'{pth}/data_lm.pkl')"
      ],
      "execution_count": 0,
      "outputs": []
    },
    {
      "cell_type": "code",
      "metadata": {
        "id": "Yix9lvNKolaP",
        "colab_type": "code",
        "outputId": "77ca7ac5-3860-48d5-fec7-b52a35e049d8",
        "colab": {
          "base_uri": "https://localhost:8080/",
          "height": 272
        }
      },
      "source": [
        "data_clas.show_batch()"
      ],
      "execution_count": 0,
      "outputs": [
        {
          "output_type": "display_data",
          "data": {
            "text/html": [
              "<table border=\"1\" class=\"dataframe\">\n",
              "  <thead>\n",
              "    <tr style=\"text-align: right;\">\n",
              "      <th>text</th>\n",
              "      <th>target</th>\n",
              "    </tr>\n",
              "  </thead>\n",
              "  <tbody>\n",
              "    <tr>\n",
              "      <td>xxbos ' xxmaj it 's xxmaj hard xxmaj to xxmaj lose xxmaj yourself xxmaj on xxmaj the xxmaj dance xxmaj floor xxmaj if xxmaj you 're xxmaj tweeting xxmaj the xxmaj song xxmaj you xxmaj just xxmaj xxunk xxmaj to xxmaj your xxmaj xxunk ' : xxmaj talking xxup dj xxmaj requests xxmaj with xxmaj xxunk xxmaj</td>\n",
              "      <td>negative</td>\n",
              "    </tr>\n",
              "    <tr>\n",
              "      <td>xxbos ' i xxmaj am xxmaj not xxmaj like xxmaj before ' : xxmaj sex xxmaj workers in xxmaj bangladesh 's xxmaj mega - xxmaj brothel xxmaj are xxmaj stuck in a xxmaj life of xxmaj drugs and xxmaj</td>\n",
              "      <td>negative</td>\n",
              "    </tr>\n",
              "    <tr>\n",
              "      <td>xxbos xxmaj weekly xxmaj music xxmaj round - xxmaj up : xxmaj celebrity xxmaj halloween xxmaj costumes , xxmaj the xxup xxunk 's , xxmaj and xxmaj nickelback xxmaj xxunk xxmaj their xxmaj xxunk 's xxmaj</td>\n",
              "      <td>negative</td>\n",
              "    </tr>\n",
              "    <tr>\n",
              "      <td>xxbos xxmaj barbie xxmaj does a xxmaj lot of xxmaj drugs and xxmaj has a xxmaj lot of xxmaj sex in this xxmaj unofficial xxmaj video for xxup xxunk 's ' xxmaj john xxmaj doe</td>\n",
              "      <td>negative</td>\n",
              "    </tr>\n",
              "    <tr>\n",
              "      <td>xxbos xxmaj brown xxmaj sabbath xxmaj delivers a xxmaj badass xxmaj black xxmaj sabbath xxmaj cover of ' xxmaj the xxmaj wizard , ' xxmaj featuring xxmaj black xxmaj angels ' xxmaj alex xxmaj</td>\n",
              "      <td>negative</td>\n",
              "    </tr>\n",
              "  </tbody>\n",
              "</table>"
            ],
            "text/plain": [
              "<IPython.core.display.HTML object>"
            ]
          },
          "metadata": {
            "tags": []
          }
        }
      ]
    },
    {
      "cell_type": "code",
      "metadata": {
        "id": "86op5OWFGwK7",
        "colab_type": "code",
        "outputId": "5109679b-19af-465c-9a7c-bf0b039d66e3",
        "colab": {
          "base_uri": "https://localhost:8080/",
          "height": 95
        }
      },
      "source": [
        "learn = language_model_learner(data_lm, AWD_LSTM, drop_mult=0.3)\n",
        "\n",
        "learn.lr_find()"
      ],
      "execution_count": 0,
      "outputs": [
        {
          "output_type": "display_data",
          "data": {
            "text/html": [
              ""
            ],
            "text/plain": [
              "<IPython.core.display.HTML object>"
            ]
          },
          "metadata": {
            "tags": []
          }
        },
        {
          "output_type": "stream",
          "text": [
            "LR Finder is complete, type {learner_name}.recorder.plot() to see the graph.\n"
          ],
          "name": "stdout"
        }
      ]
    },
    {
      "cell_type": "code",
      "metadata": {
        "id": "bRwlQQp2HN2i",
        "colab_type": "code",
        "outputId": "4813c82b-225e-45aa-dbe4-d698dee17757",
        "colab": {
          "base_uri": "https://localhost:8080/",
          "height": 361
        }
      },
      "source": [
        "learn.recorder.plot(skip_end=15)"
      ],
      "execution_count": 0,
      "outputs": [
        {
          "output_type": "display_data",
          "data": {
            "image/png": "[encoded data removed]",
            "text/plain": [
              "<Figure size 576x396 with 1 Axes>"
            ]
          },
          "metadata": {
            "tags": []
          }
        }
      ]
    },
    {
      "cell_type": "code",
      "metadata": {
        "id": "c5aCnwU_HZzz",
        "colab_type": "code",
        "colab": {}
      },
      "source": [
        "??learn.fit_one_cycle"
      ],
      "execution_count": 0,
      "outputs": []
    },
    {
      "cell_type": "code",
      "metadata": {
        "id": "-qMSur2bonaI",
        "colab_type": "code",
        "outputId": "54a264cd-9ea4-4caa-d4af-923d4b50142a",
        "colab": {
          "base_uri": "https://localhost:8080/",
          "height": 382
        }
      },
      "source": [
        "moms = (0.8, 0.7)\n",
        "# learn = language_model_learner(data_lm, pretrained_model=URLs.WT103)\n",
        "# learn.unfreeze()\n",
        "learn.fit_one_cycle(10, 1e-01, moms=moms)"
      ],
      "execution_count": 0,
      "outputs": [
        {
          "output_type": "display_data",
          "data": {
            "text/html": [
              "Total time: 08:46 <p><table border=\"1\" class=\"dataframe\">\n",
              "  <thead>\n",
              "    <tr style=\"text-align: left;\">\n",
              "      <th>epoch</th>\n",
              "      <th>train_loss</th>\n",
              "      <th>valid_loss</th>\n",
              "      <th>accuracy</th>\n",
              "      <th>time</th>\n",
              "    </tr>\n",
              "  </thead>\n",
              "  <tbody>\n",
              "    <tr>\n",
              "      <td>0</td>\n",
              "      <td>3.814198</td>\n",
              "      <td>3.438862</td>\n",
              "      <td>0.452269</td>\n",
              "      <td>00:52</td>\n",
              "    </tr>\n",
              "    <tr>\n",
              "      <td>1</td>\n",
              "      <td>3.995098</td>\n",
              "      <td>3.856113</td>\n",
              "      <td>0.428279</td>\n",
              "      <td>00:52</td>\n",
              "    </tr>\n",
              "    <tr>\n",
              "      <td>2</td>\n",
              "      <td>4.318127</td>\n",
              "      <td>4.007454</td>\n",
              "      <td>0.419877</td>\n",
              "      <td>00:52</td>\n",
              "    </tr>\n",
              "    <tr>\n",
              "      <td>3</td>\n",
              "      <td>4.404657</td>\n",
              "      <td>3.988418</td>\n",
              "      <td>0.417579</td>\n",
              "      <td>00:52</td>\n",
              "    </tr>\n",
              "    <tr>\n",
              "      <td>4</td>\n",
              "      <td>4.255978</td>\n",
              "      <td>3.907231</td>\n",
              "      <td>0.426478</td>\n",
              "      <td>00:52</td>\n",
              "    </tr>\n",
              "    <tr>\n",
              "      <td>5</td>\n",
              "      <td>4.122698</td>\n",
              "      <td>3.830412</td>\n",
              "      <td>0.430020</td>\n",
              "      <td>00:52</td>\n",
              "    </tr>\n",
              "    <tr>\n",
              "      <td>6</td>\n",
              "      <td>3.934753</td>\n",
              "      <td>3.733227</td>\n",
              "      <td>0.435612</td>\n",
              "      <td>00:52</td>\n",
              "    </tr>\n",
              "    <tr>\n",
              "      <td>7</td>\n",
              "      <td>3.771269</td>\n",
              "      <td>3.675681</td>\n",
              "      <td>0.441189</td>\n",
              "      <td>00:52</td>\n",
              "    </tr>\n",
              "    <tr>\n",
              "      <td>8</td>\n",
              "      <td>3.608375</td>\n",
              "      <td>3.636985</td>\n",
              "      <td>0.443399</td>\n",
              "      <td>00:52</td>\n",
              "    </tr>\n",
              "    <tr>\n",
              "      <td>9</td>\n",
              "      <td>3.494870</td>\n",
              "      <td>3.633431</td>\n",
              "      <td>0.444511</td>\n",
              "      <td>00:52</td>\n",
              "    </tr>\n",
              "  </tbody>\n",
              "</table>"
            ],
            "text/plain": [
              "<IPython.core.display.HTML object>"
            ]
          },
          "metadata": {
            "tags": []
          }
        }
      ]
    },
    {
      "cell_type": "code",
      "metadata": {
        "id": "Q4mxpPUdHHNV",
        "colab_type": "code",
        "colab": {}
      },
      "source": [
        "learn.save(f'{pth}/fit_head_4')\n",
        "\n",
        "learn.load(f'{pth}/fit_head_4')"
      ],
      "execution_count": 0,
      "outputs": []
    },
    {
      "cell_type": "code",
      "metadata": {
        "id": "o7M5fVBDMv2L",
        "colab_type": "code",
        "colab": {}
      },
      "source": [
        "learn.unfreeze()"
      ],
      "execution_count": 0,
      "outputs": []
    },
    {
      "cell_type": "code",
      "metadata": {
        "id": "cl8qa59bMyqq",
        "colab_type": "code",
        "colab": {}
      },
      "source": [
        "learn.fit_one_cycle(10, 1e-3, moms=moms)"
      ],
      "execution_count": 0,
      "outputs": []
    },
    {
      "cell_type": "code",
      "metadata": {
        "id": "w0kEDjFFQhYi",
        "colab_type": "code",
        "colab": {}
      },
      "source": [
        "learn.save(f'{pth}/fine_tuned')"
      ],
      "execution_count": 0,
      "outputs": []
    },
    {
      "cell_type": "code",
      "metadata": {
        "id": "yrNVIUTrQkTi",
        "colab_type": "code",
        "colab": {}
      },
      "source": [
        "learn.load_encoder(f'{pth}/fine_tuned_enc')"
      ],
      "execution_count": 0,
      "outputs": []
    },
    {
      "cell_type": "code",
      "metadata": {
        "id": "gAvJhNO0SQd2",
        "colab_type": "code",
        "colab": {}
      },
      "source": [
        "TEXT = \"A South Korean-born NATO Soldier gives us the skinny on their contingency plan. Spoiler alert: they're totally fucked.\"\n",
        "N_WORDS = 40\n",
        "N_SENTENCES = 2"
      ],
      "execution_count": 0,
      "outputs": []
    },
    {
      "cell_type": "code",
      "metadata": {
        "id": "H1qbHbKfS6Mv",
        "colab_type": "code",
        "outputId": "cb0344c3-3154-4b4c-9213-ac99b01a0369",
        "colab": {
          "base_uri": "https://localhost:8080/",
          "height": 91
        }
      },
      "source": [
        "print(\"\\n\".join(learn.predict(TEXT, N_WORDS, temperature=0.75) for _ in range(N_SENTENCES)))"
      ],
      "execution_count": 0,
      "outputs": [
        {
          "output_type": "stream",
          "text": [
            "A South Korean-born NATO Soldier gives us the skinny on their contingency plan. Spoiler alert: they're totally fucked. xxbos An Ex - Media Model with Weird Donald Trump Go xxbos So Hard of His Workers xxbos These Long Video of Jim\n",
            "A South Korean-born NATO Soldier gives us the skinny on their contingency plan. Spoiler alert: they're totally fucked. xxbos The Guide to Weed You Knew Your History xxbos How So Many Long Before Is Working and The World in the Idols\n"
          ],
          "name": "stdout"
        }
      ]
    },
    {
      "cell_type": "code",
      "metadata": {
        "id": "btTT3p0HTdOi",
        "colab_type": "code",
        "colab": {}
      },
      "source": [
        "learn.save_encoder(f'{pth}/fine_tuned_enc')"
      ],
      "execution_count": 0,
      "outputs": []
    },
    {
      "cell_type": "code",
      "metadata": {
        "id": "CmmJPLaQo0cL",
        "colab_type": "code",
        "colab": {}
      },
      "source": [
        "# learn.save_encoder('enc')\n",
        "\n",
        "learn = text_classifier_learner(data_clas, AWD_LSTM, drop_mult=0.3)\n",
        "learn.load_encoder(f'{pth}/fine_tuned_enc')\n"
      ],
      "execution_count": 0,
      "outputs": []
    },
    {
      "cell_type": "code",
      "metadata": {
        "id": "WCbNsntvXn1c",
        "colab_type": "code",
        "outputId": "27ef5185-018b-4888-c15f-41c5132ab69e",
        "colab": {
          "base_uri": "https://localhost:8080/",
          "height": 378
        }
      },
      "source": [
        "learn.lr_find()\n",
        "learn.recorder.plot()"
      ],
      "execution_count": 0,
      "outputs": [
        {
          "output_type": "display_data",
          "data": {
            "text/html": [
              ""
            ],
            "text/plain": [
              "<IPython.core.display.HTML object>"
            ]
          },
          "metadata": {
            "tags": []
          }
        },
        {
          "output_type": "stream",
          "text": [
            "LR Finder is complete, type {learner_name}.recorder.plot() to see the graph.\n"
          ],
          "name": "stdout"
        },
        {
          "output_type": "display_data",
          "data": {
            "image/png": "[encoded data removed]",
            "text/plain": [
              "<Figure size 576x396 with 1 Axes>"
            ]
          },
          "metadata": {
            "tags": []
          }
        }
      ]
    },
    {
      "cell_type": "code",
      "metadata": {
        "id": "GphZfnM8XyiN",
        "colab_type": "code",
        "outputId": "3885106a-e972-4c26-a96b-834f154acca6",
        "colab": {
          "base_uri": "https://localhost:8080/",
          "height": 103
        }
      },
      "source": [
        "learn.fit_one_cycle(1, 1e-01, moms=moms)\n",
        "# 1e-02\t0.621266\t0.644962\t0.642857\t00:39\n",
        "# 1e-2\t0.627414\t0.619157\t0.636857\t00:40\n",
        "# 1e-02\t0.630747\t0.610770\t0.650000\t00:40\n",
        "# 1e-01 0.623658\t0.616377\t0.635429\t00:40"
      ],
      "execution_count": 0,
      "outputs": [
        {
          "output_type": "display_data",
          "data": {
            "text/html": [
              "Total time: 00:40 <p><table border=\"1\" class=\"dataframe\">\n",
              "  <thead>\n",
              "    <tr style=\"text-align: left;\">\n",
              "      <th>epoch</th>\n",
              "      <th>train_loss</th>\n",
              "      <th>valid_loss</th>\n",
              "      <th>accuracy</th>\n",
              "      <th>time</th>\n",
              "    </tr>\n",
              "  </thead>\n",
              "  <tbody>\n",
              "    <tr>\n",
              "      <td>0</td>\n",
              "      <td>0.623658</td>\n",
              "      <td>0.616377</td>\n",
              "      <td>0.635429</td>\n",
              "      <td>00:40</td>\n",
              "    </tr>\n",
              "  </tbody>\n",
              "</table>"
            ],
            "text/plain": [
              "<IPython.core.display.HTML object>"
            ]
          },
          "metadata": {
            "tags": []
          }
        }
      ]
    },
    {
      "cell_type": "code",
      "metadata": {
        "id": "eQo5FK2kqoQ8",
        "colab_type": "code",
        "outputId": "18f70936-7b3a-468c-bc9a-22bad9214e3b",
        "colab": {
          "base_uri": "https://localhost:8080/",
          "height": 320
        }
      },
      "source": [
        "learn.unfreeze()\n",
        "learn.fit_one_cycle(8, slice(1e-04, 1e-02), moms=moms)"
      ],
      "execution_count": 0,
      "outputs": [
        {
          "output_type": "display_data",
          "data": {
            "text/html": [
              "Total time: 12:21 <p><table border=\"1\" class=\"dataframe\">\n",
              "  <thead>\n",
              "    <tr style=\"text-align: left;\">\n",
              "      <th>epoch</th>\n",
              "      <th>train_loss</th>\n",
              "      <th>valid_loss</th>\n",
              "      <th>accuracy</th>\n",
              "      <th>time</th>\n",
              "    </tr>\n",
              "  </thead>\n",
              "  <tbody>\n",
              "    <tr>\n",
              "      <td>0</td>\n",
              "      <td>0.455487</td>\n",
              "      <td>0.576804</td>\n",
              "      <td>0.718857</td>\n",
              "      <td>01:31</td>\n",
              "    </tr>\n",
              "    <tr>\n",
              "      <td>1</td>\n",
              "      <td>0.484100</td>\n",
              "      <td>0.568707</td>\n",
              "      <td>0.717429</td>\n",
              "      <td>01:33</td>\n",
              "    </tr>\n",
              "    <tr>\n",
              "      <td>2</td>\n",
              "      <td>0.501354</td>\n",
              "      <td>0.571705</td>\n",
              "      <td>0.720286</td>\n",
              "      <td>01:31</td>\n",
              "    </tr>\n",
              "    <tr>\n",
              "      <td>3</td>\n",
              "      <td>0.448505</td>\n",
              "      <td>0.560487</td>\n",
              "      <td>0.725143</td>\n",
              "      <td>01:34</td>\n",
              "    </tr>\n",
              "    <tr>\n",
              "      <td>4</td>\n",
              "      <td>0.422211</td>\n",
              "      <td>0.594474</td>\n",
              "      <td>0.713714</td>\n",
              "      <td>01:32</td>\n",
              "    </tr>\n",
              "    <tr>\n",
              "      <td>5</td>\n",
              "      <td>0.377001</td>\n",
              "      <td>0.581079</td>\n",
              "      <td>0.722571</td>\n",
              "      <td>01:33</td>\n",
              "    </tr>\n",
              "    <tr>\n",
              "      <td>6</td>\n",
              "      <td>0.366176</td>\n",
              "      <td>0.594949</td>\n",
              "      <td>0.723429</td>\n",
              "      <td>01:32</td>\n",
              "    </tr>\n",
              "    <tr>\n",
              "      <td>7</td>\n",
              "      <td>0.353878</td>\n",
              "      <td>0.612377</td>\n",
              "      <td>0.724286</td>\n",
              "      <td>01:31</td>\n",
              "    </tr>\n",
              "  </tbody>\n",
              "</table>"
            ],
            "text/plain": [
              "<IPython.core.display.HTML object>"
            ]
          },
          "metadata": {
            "tags": []
          }
        }
      ]
    },
    {
      "cell_type": "code",
      "metadata": {
        "id": "i9DDNfX2hdgS",
        "colab_type": "code",
        "colab": {}
      },
      "source": [
        "# learn.save_encoder(f'{pth}/clas_fine_tuned_16')\n",
        "learn.load_encoder(f'{pth}/clas_fine_tuned_16')"
      ],
      "execution_count": 0,
      "outputs": []
    },
    {
      "cell_type": "code",
      "metadata": {
        "id": "nto7_GP9xSQ9",
        "colab_type": "code",
        "colab": {}
      },
      "source": [
        "# learn.data.add_test"
      ],
      "execution_count": 0,
      "outputs": []
    },
    {
      "cell_type": "code",
      "metadata": {
        "id": "C3JMUjj-ODeg",
        "colab_type": "code",
        "colab": {}
      },
      "source": [
        "??learn.predict(['We Asked Women How Much They Care About Men’s Height'], batch=True)"
      ],
      "execution_count": 0,
      "outputs": []
    },
    {
      "cell_type": "code",
      "metadata": {
        "id": "K8CxAMM9dIqF",
        "colab_type": "code",
        "outputId": "03b700ca-9b89-403d-b894-83b46787379a",
        "colab": {
          "base_uri": "https://localhost:8080/",
          "height": 34
        }
      },
      "source": [
        "learn.predict(\"A South Korean-born NATO Soldier gives us the skinny on their contingency plan. Spoiler alert: they're totally fucked.\")"
      ],
      "execution_count": 0,
      "outputs": [
        {
          "output_type": "execute_result",
          "data": {
            "text/plain": [
              "(Category positive, tensor(1), tensor([0.0089, 0.9911]))"
            ]
          },
          "metadata": {
            "tags": []
          },
          "execution_count": 90
        }
      ]
    },
    {
      "cell_type": "code",
      "metadata": {
        "id": "z68LRBukkFMI",
        "colab_type": "code",
        "outputId": "541d2f58-1a8b-4bb8-c209-3f204f8b9439",
        "colab": {
          "base_uri": "https://localhost:8080/",
          "height": 34
        }
      },
      "source": [
        "learn.predict(\"The latest generation of cheap iPhone X knockoffs come complete with the 'notch'\")"
      ],
      "execution_count": 0,
      "outputs": [
        {
          "output_type": "execute_result",
          "data": {
            "text/plain": [
              "(Category negative, tensor(0), tensor([0.6694, 0.3306]))"
            ]
          },
          "metadata": {
            "tags": []
          },
          "execution_count": 92
        }
      ]
    },
    {
      "cell_type": "code",
      "metadata": {
        "id": "1M7L0RLbkSOA",
        "colab_type": "code",
        "outputId": "2f31e485-4e6a-4e93-b2a9-fb880c288c9a",
        "colab": {
          "base_uri": "https://localhost:8080/",
          "height": 34
        }
      },
      "source": [
        "learn.predict(\"Listen to Steve Earle's New Song 'The Tennessee Kid'\")"
      ],
      "execution_count": 0,
      "outputs": [
        {
          "output_type": "execute_result",
          "data": {
            "text/plain": [
              "(Category negative, tensor(0), tensor([0.9623, 0.0377]))"
            ]
          },
          "metadata": {
            "tags": []
          },
          "execution_count": 108
        }
      ]
    },
    {
      "cell_type": "code",
      "metadata": {
        "id": "yg3X3Cf3kp53",
        "colab_type": "code",
        "outputId": "f1647184-3765-44e0-f9c2-ff472148f248",
        "colab": {
          "base_uri": "https://localhost:8080/",
          "height": 34
        }
      },
      "source": [
        "learn.predict(\"What Did You Eat During the Super Bowl?\")"
      ],
      "execution_count": 0,
      "outputs": [
        {
          "output_type": "execute_result",
          "data": {
            "text/plain": [
              "'What Did You Eat During the Super Bowl? genetically'"
            ]
          },
          "metadata": {
            "tags": []
          },
          "execution_count": 147
        }
      ]
    },
    {
      "cell_type": "code",
      "metadata": {
        "id": "39g8y46Mk_pX",
        "colab_type": "code",
        "outputId": "c9cffe4c-ac51-4379-cba5-f9d666709b58",
        "colab": {
          "base_uri": "https://localhost:8080/",
          "height": 34
        }
      },
      "source": [
        "learn.predict(\"Bulldogs Mid Mitch Wallis Kicks His Own Leg to Death\")"
      ],
      "execution_count": 0,
      "outputs": [
        {
          "output_type": "execute_result",
          "data": {
            "text/plain": [
              "(Category negative, tensor(0), tensor([0.5835, 0.4165]))"
            ]
          },
          "metadata": {
            "tags": []
          },
          "execution_count": 109
        }
      ]
    },
    {
      "cell_type": "code",
      "metadata": {
        "id": "wfVNFgTEvYs9",
        "colab_type": "code",
        "outputId": "817e9b11-3787-4dd6-f89b-dd8f31de9fb4",
        "colab": {
          "base_uri": "https://localhost:8080/",
          "height": 34
        }
      },
      "source": [
        "learn.predict(\"I Went to a Beach Party for Former Scientologists, Mormons, and Hasidic Jews\")"
      ],
      "execution_count": 0,
      "outputs": [
        {
          "output_type": "execute_result",
          "data": {
            "text/plain": [
              "(Category positive, tensor(1), tensor([0.3673, 0.6327]))"
            ]
          },
          "metadata": {
            "tags": []
          },
          "execution_count": 123
        }
      ]
    },
    {
      "cell_type": "code",
      "metadata": {
        "id": "tK8gZBQAvrxl",
        "colab_type": "code",
        "outputId": "f9fca14d-063c-473e-e03a-c415807b828d",
        "colab": {
          "base_uri": "https://localhost:8080/",
          "height": 205
        }
      },
      "source": [
        "learn.predict(\"Bedienen is stressvoller dan een baan als hersenchirurg\")\n",
        "\n",
        "# MMA Coaches Weigh in on a Hypothetical Fight Between Trump and Biden"
      ],
      "execution_count": 0,
      "outputs": [
        {
          "output_type": "error",
          "ename": "NameError",
          "evalue": "ignored",
          "traceback": [
            "\u001b[0;31m---------------------------------------------------------------------------\u001b[0m",
            "\u001b[0;31mNameError\u001b[0m                                 Traceback (most recent call last)",
            "\u001b[0;32m<ipython-input-1-e1b628c7638a>\u001b[0m in \u001b[0;36m<module>\u001b[0;34m()\u001b[0m\n\u001b[0;32m----> 1\u001b[0;31m \u001b[0mlearn\u001b[0m\u001b[0;34m.\u001b[0m\u001b[0mpredict\u001b[0m\u001b[0;34m(\u001b[0m\u001b[0;34m\"Bedienen is stressvoller dan een baan als hersenchirurg\"\u001b[0m\u001b[0;34m)\u001b[0m\u001b[0;34m\u001b[0m\u001b[0;34m\u001b[0m\u001b[0m\n\u001b[0m",
            "\u001b[0;31mNameError\u001b[0m: name 'learn' is not defined"
          ]
        }
      ]
    },
    {
      "cell_type": "code",
      "metadata": {
        "id": "NYZ3u8yKIvbO",
        "colab_type": "code",
        "colab": {}
      },
      "source": [
        ""
      ],
      "execution_count": 0,
      "outputs": []
    }
  ]
}