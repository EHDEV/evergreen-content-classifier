{
  "nbformat": 4,
  "nbformat_minor": 0,
  "metadata": {
    "colab": {
      "name": "fastai-transfer-evergreen.ipynb",
      "version": "0.3.2",
      "provenance": [],
      "collapsed_sections": [],
      "include_colab_link": true
    },
    "kernelspec": {
      "name": "python3",
      "display_name": "Python 3"
    },
    "accelerator": "GPU"
  },
  "cells": [
    {
      "cell_type": "markdown",
      "metadata": {
        "id": "view-in-github",
        "colab_type": "text"
      },
      "source": [
        "<a href=\"https://colab.research.google.com/github/EHDEV/ml-miscellaneous/blob/master/fastai_transfer_evergreen.ipynb\" target=\"_parent\"><img src=\"https://colab.research.google.com/assets/colab-badge.svg\" alt=\"Open In Colab\"/></a>"
      ]
    },
    {
      "metadata": {
        "id": "4sNTiKGVnlkg",
        "colab_type": "code",
        "colab": {}
      },
      "cell_type": "code",
      "source": [
        "!pip install torch_nightly -f https://download.pytorch.org/whl/nightly/cu92/torch_nightly.html\n",
        "!pip install fastai"
      ],
      "execution_count": 0,
      "outputs": []
    },
    {
      "metadata": {
        "id": "KUHlhJzJnxYS",
        "colab_type": "code",
        "colab": {}
      },
      "cell_type": "code",
      "source": [
        "from fastai import *\n",
        "from fastai.text import *\n",
        "\n",
        "from google.colab import drive"
      ],
      "execution_count": 0,
      "outputs": []
    },
    {
      "metadata": {
        "id": "4mHZH16I-y3r",
        "colab_type": "code",
        "colab": {}
      },
      "cell_type": "code",
      "source": [
        "# drive.mount('/content/drive/')\n",
        "!ls \"/content/drive/My Drive/\"\n",
        "pth =  \"/content/drive/My Drive/\""
      ],
      "execution_count": 0,
      "outputs": []
    },
    {
      "metadata": {
        "id": "Yix9lvNKolaP",
        "colab_type": "code",
        "colab": {}
      },
      "cell_type": "code",
      "source": [
        "# drive.mount('/content/drive')\n",
        "data_file = 'evergreen_sample_.csv'\n",
        "\n",
        "# path = untar_data(URLs.IMDB_SAMPLE)\n",
        "data_lm = TextLMDataBunch.from_csv(pth, data_file)\n",
        "data_clas = TextClasDataBunch.from_csv(pth, data_file, vocab=data_lm.train_ds.vocab, bs=42)"
      ],
      "execution_count": 0,
      "outputs": []
    },
    {
      "metadata": {
        "id": "-qMSur2bonaI",
        "colab_type": "code",
        "outputId": "b0e6dc9f-3d66-4671-930e-eee77b59bcf9",
        "colab": {
          "base_uri": "https://localhost:8080/",
          "height": 136
        }
      },
      "cell_type": "code",
      "source": [
        "moms = (0.8, 0.7)\n",
        "learn = language_model_learner(data_lm, pretrained_model=URLs.WT103)\n",
        "learn.unfreeze()\n",
        "learn.fit_one_cycle(4, slice(1e-2), moms=moms)"
      ],
      "execution_count": 0,
      "outputs": [
        {
          "output_type": "stream",
          "text": [
            "Total time: 01:12\n",
            "epoch  train_loss  valid_loss  accuracy\n",
            "1      5.458669    4.371094    0.313693  (00:18)\n",
            "2      4.933726    4.143859    0.328829  (00:18)\n",
            "3      4.584041    4.050034    0.337970  (00:17)\n",
            "4      4.372840    4.031618    0.338879  (00:18)\n",
            "\n"
          ],
          "name": "stdout"
        }
      ]
    },
    {
      "metadata": {
        "id": "CmmJPLaQo0cL",
        "colab_type": "code",
        "outputId": "40b01ab0-aae4-4064-9920-0ea43460a856",
        "colab": {
          "base_uri": "https://localhost:8080/",
          "height": 204
        }
      },
      "cell_type": "code",
      "source": [
        "learn.save_encoder('enc')\n",
        "\n",
        "learn = text_classifier_learner(data_clas)\n",
        "learn.load_encoder('enc')\n",
        "learn.freeze()\n",
        "learn.fit_one_cycle(8, moms=moms)"
      ],
      "execution_count": 0,
      "outputs": [
        {
          "output_type": "stream",
          "text": [
            "Total time: 03:00\n",
            "epoch  train_loss  valid_loss  accuracy\n",
            "1      0.637659    0.598728    0.674213  (00:21)\n",
            "2      0.627283    0.589685    0.679212  (00:21)\n",
            "3      0.612520    0.588280    0.670097  (00:23)\n",
            "4      0.626866    0.583155    0.674802  (00:22)\n",
            "5      0.624188    0.582540    0.676860  (00:22)\n",
            "6      0.634528    0.584839    0.680682  (00:22)\n",
            "7      0.619259    0.583704    0.682152  (00:22)\n",
            "8      0.634434    0.578226    0.683917  (00:22)\n",
            "\n"
          ],
          "name": "stdout"
        }
      ]
    },
    {
      "metadata": {
        "id": "eQo5FK2kqoQ8",
        "colab_type": "code",
        "outputId": "8b172be8-9cc9-4dc4-d9ef-0b9bd7938b93",
        "colab": {
          "base_uri": "https://localhost:8080/",
          "height": 340
        }
      },
      "cell_type": "code",
      "source": [
        "learn.unfreeze()\n",
        "learn.fit_one_cycle(16, slice(1e-3), moms=moms)"
      ],
      "execution_count": 0,
      "outputs": [
        {
          "output_type": "stream",
          "text": [
            "Total time: 14:09\n",
            "epoch  train_loss  valid_loss  accuracy\n",
            "1      0.550253    0.532874    0.718906  (00:53)\n",
            "2      0.555395    0.548163    0.710673  (00:54)\n",
            "3      0.549286    0.533926    0.713908  (00:51)\n",
            "4      0.529144    0.521682    0.732726  (00:52)\n",
            "5      0.527921    0.527928    0.724493  (00:52)\n",
            "6      0.524715    0.526010    0.719494  (00:52)\n",
            "7      0.527909    0.531570    0.733608  (00:54)\n",
            "8      0.480297    0.520186    0.740370  (00:54)\n",
            "9      0.480871    0.519819    0.732138  (00:52)\n",
            "10     0.485756    0.522583    0.728903  (00:52)\n",
            "11     0.464368    0.532625    0.732138  (00:53)\n",
            "12     0.461291    0.516674    0.738900  (00:53)\n",
            "13     0.462442    0.514634    0.736254  (00:52)\n",
            "14     0.466798    0.530736    0.732432  (00:51)\n",
            "15     0.461880    0.510954    0.738018  (00:54)\n",
            "16     0.460433    0.519268    0.736842  (00:51)\n",
            "\n"
          ],
          "name": "stdout"
        }
      ]
    },
    {
      "metadata": {
        "id": "_vYB0Yr3t22-",
        "colab_type": "code",
        "colab": {}
      },
      "cell_type": "code",
      "source": [
        ""
      ],
      "execution_count": 0,
      "outputs": []
    }
  ]
}